{
 "cells": [
  {
   "cell_type": "code",
   "execution_count": null,
   "id": "ada67f8b",
   "metadata": {},
   "outputs": [],
   "source": [
    "import pandas as pd\n",
    "import pyodbc"
   ]
  },
  {
   "cell_type": "code",
   "execution_count": null,
   "id": "91ec7386",
   "metadata": {},
   "outputs": [],
   "source": [
    "#Lendo os arquivos da fonte \n",
    "\n",
    "df = pd.read_csv('churnmodeling.csv')\n",
    "display(df)\n",
    "df.info()"
   ]
  },
  {
   "cell_type": "code",
   "execution_count": null,
   "id": "5b4dd1d6",
   "metadata": {},
   "outputs": [],
   "source": [
    "# Define a conexão com o banco de dados\n",
    "\n",
    "server_name = 'DESKTOP-AQD6KAA\\TEW_SQLEXPRESS'\n",
    "database_name = 'project'\n",
    "username = 'sa'\n",
    "password = 'brunologin'\n",
    "driver = '{ODBC Driver 17 for SQL Server}'\n",
    "conn_str = f\"DRIVER={driver};SERVER={server_name};DATABASE={database_name};UID={username};PWD={password}\"\n",
    "conn = pyodbc.connect(conn_str)\n",
    "cursor = conn.cursor()"
   ]
  },
  {
   "cell_type": "code",
   "execution_count": null,
   "id": "7a524c3c",
   "metadata": {},
   "outputs": [],
   "source": [
    "# Define o caminho do arquivo CSV\n",
    "csv_file_path = 'churnmodeling.csv'"
   ]
  },
  {
   "cell_type": "code",
   "execution_count": null,
   "id": "b8123570",
   "metadata": {},
   "outputs": [],
   "source": [
    "# Converte o arquivo CSV em um DataFrame do Pandas e depois converte para JSON\n",
    "\n",
    "df = pd.read_csv(csv_file_path)\n",
    "json_data = df.to_json(orient='records')"
   ]
  },
  {
   "cell_type": "code",
   "execution_count": 1,
   "id": "2aca893d",
   "metadata": {},
   "outputs": [],
   "source": [
    "# Define o nome da tabela no banco de dados e as colunas correspondentes\n",
    "\n",
    "table_name = 'churnmodeling'\n",
    "columns = ['RowNumber', 'CustomerId', 'Surname','CreditScore','Geography','Gender','Age','Tenure','Balance','NumOfProducts',\n",
    "           'HasCrCard','IsActiveMember','EstimatedSalary','Exited']"
   ]
  },
  {
   "cell_type": "code",
   "execution_count": null,
   "id": "072e6b5f",
   "metadata": {},
   "outputs": [],
   "source": [
    "# Insere os dados no banco de dados\n",
    "\n",
    "for record in pd.read_json(json_data, typ='records'):\n",
    "    values = []\n",
    "    for col in columns:\n",
    "        values.append(record[col])\n",
    "    cursor = conn.cursor()\n",
    "    query = f\"INSERT INTO {table_name} ({','.join(columns)}) VALUES ({','.join(['?']*len(columns))})\"\n",
    "    cursor.execute(query, values)\n",
    "    cursor.commit()\n",
    "    cursor.close()"
   ]
  },
  {
   "cell_type": "code",
   "execution_count": null,
   "id": "92b92591",
   "metadata": {},
   "outputs": [],
   "source": [
    "# Fecha a conexão com o banco de dados\n",
    "\n",
    "conn.close()\n",
    "print('Conexão encerrada')"
   ]
  }
 ],
 "metadata": {
  "kernelspec": {
   "display_name": "Python 3 (ipykernel)",
   "language": "python",
   "name": "python3"
  },
  "language_info": {
   "codemirror_mode": {
    "name": "ipython",
    "version": 3
   },
   "file_extension": ".py",
   "mimetype": "text/x-python",
   "name": "python",
   "nbconvert_exporter": "python",
   "pygments_lexer": "ipython3",
   "version": "3.11.2"
  }
 },
 "nbformat": 4,
 "nbformat_minor": 5
}
